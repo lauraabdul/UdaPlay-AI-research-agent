{
 "cells": [
  {
   "cell_type": "markdown",
   "id": "6fdd0bcb",
   "metadata": {},
   "source": [
    "# [STARTER] Udaplay Project"
   ]
  },
  {
   "cell_type": "markdown",
   "id": "9325b035",
   "metadata": {},
   "source": [
    "## Part 01 - Offline RAG\n",
    "\n",
    "In this part of the project, you'll build your VectorDB using Chroma.\n",
    "\n",
    "The data is inside folder `project/starter/games`. Each file will become a document in the collection you'll create.\n",
    "Example.:\n",
    "```json\n",
    "{\n",
    "  \"Name\": \"Gran Turismo\",\n",
    "  \"Platform\": \"PlayStation 1\",\n",
    "  \"Genre\": \"Racing\",\n",
    "  \"Publisher\": \"Sony Computer Entertainment\",\n",
    "  \"Description\": \"A realistic racing simulator featuring a wide array of cars and tracks, setting a new standard for the genre.\",\n",
    "  \"YearOfRelease\": 1997\n",
    "}\n",
    "```\n"
   ]
  },
  {
   "cell_type": "markdown",
   "id": "2b42de90",
   "metadata": {},
   "source": [
    "### Setup"
   ]
  },
  {
   "cell_type": "code",
   "execution_count": 1,
   "id": "61283b25",
   "metadata": {},
   "outputs": [],
   "source": [
    "# # Only needed for Udacity workspace\n",
    "\n",
    "# import importlib.util\n",
    "# import sys\n",
    "\n",
    "# # Check if 'pysqlite3' is available before importing\n",
    "# if importlib.util.find_spec(\"pysqlite3\") is not None:\n",
    "#     import pysqlite3\n",
    "#     sys.modules['sqlite3'] = sys.modules.pop('pysqlite3')"
   ]
  },
  {
   "cell_type": "code",
   "execution_count": 2,
   "id": "a8d56169",
   "metadata": {},
   "outputs": [],
   "source": [
    "import os\n",
    "import json\n",
    "import chromadb\n",
    "from chromadb.utils import embedding_functions\n",
    "from dotenv import load_dotenv"
   ]
  },
  {
   "cell_type": "code",
   "execution_count": 3,
   "id": "fd10c06e",
   "metadata": {},
   "outputs": [],
   "source": [
    "# TODO: Create a .env file with the following variables\n",
    "# OPENAI_API_KEY=\"YOUR_KEY\"\n",
    "# CHROMA_OPENAI_API_KEY=\"YOUR_KEY\"\n",
    "# TAVILY_API_KEY=\"YOUR_KEY\""
   ]
  },
  {
   "cell_type": "code",
   "execution_count": 4,
   "id": "87e465d4",
   "metadata": {},
   "outputs": [
    {
     "name": "stdout",
     "output_type": "stream",
     "text": [
      "✅ OpenAI API key loaded: voc-170784...\n",
      "✅ Tavily API key loaded: tvly-dev-T...\n",
      "\n",
      "🔗 Testing Vocareum API connection...\n",
      "✅ Vocareum API working! Response: Hello UdaPlay! How can I assist you\n"
     ]
    }
   ],
   "source": [
    "# Load environment variables\n",
    "load_dotenv()\n",
    "\n",
    "# Verify environment variables are loaded\n",
    "openai_key = os.getenv('OPENAI_API_KEY')\n",
    "tavily_key = os.getenv('TAVILY_API_KEY')\n",
    "\n",
    "if openai_key:\n",
    "    print(f\"✅ OpenAI API key loaded: {openai_key[:10]}...\")\n",
    "else:\n",
    "    print(\"❌ OpenAI API key not found in environment\")\n",
    "\n",
    "if tavily_key:\n",
    "    print(f\"✅ Tavily API key loaded: {tavily_key[:10]}...\")\n",
    "else:\n",
    "    print(\"❌ Tavily API key not found in environment\")\n",
    "\n",
    "# Test Vocareum API connection\n",
    "print(\"\\n🔗 Testing Vocareum API connection...\")\n",
    "try:\n",
    "    import openai\n",
    "    client = openai.OpenAI(\n",
    "        api_key=openai_key,\n",
    "        base_url=\"https://openai.vocareum.com/v1\"\n",
    "    )\n",
    "    \n",
    "    # Test with a simple completion\n",
    "    response = client.chat.completions.create(\n",
    "        model=\"gpt-3.5-turbo\",\n",
    "        messages=[{\"role\": \"user\", \"content\": \"Hello from UdaPlay!\"}],\n",
    "        max_tokens=10\n",
    "    )\n",
    "    \n",
    "    print(f\"✅ Vocareum API working! Response: {response.choices[0].message.content}\")\n",
    "    \n",
    "except Exception as e:\n",
    "    print(f\"❌ Vocareum API test failed: {e}\")\n",
    "    print(\"   Make sure you're using the correct Vocareum API key\")\n"
   ]
  },
  {
   "cell_type": "markdown",
   "id": "27de4729",
   "metadata": {},
   "source": [
    "### VectorDB Instance"
   ]
  },
  {
   "cell_type": "code",
   "execution_count": 5,
   "id": "b25c36dd",
   "metadata": {},
   "outputs": [
    {
     "name": "stdout",
     "output_type": "stream",
     "text": [
      " ✅ chorma client ready\n"
     ]
    }
   ],
   "source": [
    "# TODO: Instantiate your ChromaDB Client\n",
    "# Choose any path you want\n",
    "chroma_client = chromadb.PersistentClient(path=\"chromadb\")\n",
    "print(\" ✅ chorma client ready\")"
   ]
  },
  {
   "cell_type": "markdown",
   "id": "df844b3b",
   "metadata": {},
   "source": [
    "### Collection"
   ]
  },
  {
   "cell_type": "code",
   "execution_count": 6,
   "id": "31c56281",
   "metadata": {},
   "outputs": [
    {
     "name": "stdout",
     "output_type": "stream",
     "text": [
      "✅ OpenAI embedding function created with Vocareum base URL\n"
     ]
    }
   ],
   "source": [
    "# Pick one embedding function\n",
    "# If picking something different than openai, \n",
    "# make sure you use the same when loading it\n",
    "embedding_fn = embedding_functions.OpenAIEmbeddingFunction(\n",
    "    model_name=\"text-embedding-3-small\",\n",
    "    api_key=os.getenv('OPENAI_API_KEY'),\n",
    "    api_base=\"https://openai.vocareum.com/v1\"\n",
    ")\n",
    "\n",
    "print(\"✅ OpenAI embedding function created with Vocareum base URL\")"
   ]
  },
  {
   "cell_type": "code",
   "execution_count": 7,
   "id": "0ec23893",
   "metadata": {},
   "outputs": [
    {
     "name": "stdout",
     "output_type": "stream",
     "text": [
      "✅ Collection created\n"
     ]
    }
   ],
   "source": [
    "# TODO: Create a collection\n",
    "# Choose any name you want\n",
    "# collection = chroma_client.create_collection(\n",
    "#    name=\"udaplay\",\n",
    "#    embedding_function=embedding_fn\n",
    "#)\n",
    "collection = chroma_client.get_or_create_collection(\n",
    "    name=\"udaplay\",\n",
    "    embedding_function=embedding_fn\n",
    ")\n",
    "print(\"✅ Collection created\")\n"
   ]
  },
  {
   "cell_type": "markdown",
   "id": "f0a55081",
   "metadata": {},
   "source": [
    "### Add documents"
   ]
  },
  {
   "cell_type": "code",
   "execution_count": 8,
   "id": "eb83fbb1",
   "metadata": {},
   "outputs": [
    {
     "name": "stdout",
     "output_type": "stream",
     "text": [
      "📚 Loading game data into ChromaDB...\n",
      "  ✅ Loaded: Gran Turismo (PlayStation 1, 1997)\n",
      "  ✅ Loaded: Grand Theft Auto: San Andreas (PlayStation 2, 2004)\n",
      "  ✅ Loaded: Gran Turismo 5 (PlayStation 3, 2010)\n",
      "  ✅ Loaded: Marvel's Spider-Man (PlayStation 4, 2018)\n",
      "  ✅ Loaded: Marvel's Spider-Man 2 (PlayStation 5, 2023)\n",
      "  ✅ Loaded: Pokémon Gold and Silver (Game Boy Color, 1999)\n",
      "  ✅ Loaded: Pokémon Ruby and Sapphire (Game Boy Advance, 2002)\n",
      "  ✅ Loaded: Super Mario World (Super Nintendo Entertainment System (SNES), 1990)\n",
      "  ✅ Loaded: Super Mario 64 (Nintendo 64, 1996)\n",
      "  ✅ Loaded: Super Smash Bros. Melee (GameCube, 2001)\n",
      "  ✅ Loaded: Wii Sports (Wii, 2006)\n",
      "  ✅ Loaded: Mario Kart 8 Deluxe (Nintendo Switch, 2017)\n",
      "  ✅ Loaded: Kinect Adventures! (Xbox 360, 2010)\n",
      "  ✅ Loaded: Minecraft (Xbox One, 2014)\n",
      "  ✅ Loaded: Halo Infinite (Xbox Series X|S, 2021)\n",
      "\n",
      "🎮 Successfully loaded 15 games into ChromaDB!\n",
      "📊 Collection count: 15\n"
     ]
    }
   ],
   "source": [
    "# Make sure you have a directory \"project/starter/games\"\n",
    "data_dir = \"games\"\n",
    "\n",
    "print(\"📚 Loading game data into ChromaDB...\")\n",
    "games_loaded = 0\n",
    "\n",
    "for file_name in sorted(os.listdir(data_dir)):\n",
    "    if not file_name.endswith(\".json\"):\n",
    "        continue\n",
    "\n",
    "    file_path = os.path.join(data_dir, file_name)\n",
    "    with open(file_path, \"r\", encoding=\"utf-8\") as f:\n",
    "        game = json.load(f)\n",
    "\n",
    "    # You can change what text you want to index\n",
    "    content = f\"[{game['Platform']}] {game['Name']} ({game['YearOfRelease']}) - {game['Description']}\"\n",
    "\n",
    "    # Use file name (like 001) as ID\n",
    "    doc_id = os.path.splitext(file_name)[0]\n",
    "\n",
    "    collection.add(\n",
    "        ids=[doc_id],\n",
    "        documents=[content],\n",
    "        metadatas=[game]\n",
    "    )\n",
    "    \n",
    "    games_loaded += 1\n",
    "    print(f\"  ✅ Loaded: {game['Name']} ({game['Platform']}, {game['YearOfRelease']})\")\n",
    "\n",
    "print(f\"\\n🎮 Successfully loaded {games_loaded} games into ChromaDB!\")\n",
    "print(f\"📊 Collection count: {collection.count()}\")"
   ]
  },
  {
   "cell_type": "markdown",
   "id": "e93bee2d",
   "metadata": {},
   "source": [
    "### Semantic Search Demonstration\n",
    "\n",
    "Now let's test our RAG implementation by performing semantic searches on our game database. This demonstrates that our vector database can actually find relevant games based on meaning, not just exact text matches.\n"
   ]
  },
  {
   "cell_type": "code",
   "execution_count": 9,
   "id": "585c551e",
   "metadata": {},
   "outputs": [
    {
     "name": "stdout",
     "output_type": "stream",
     "text": [
      "🏎️ Test 1: Searching for 'racing games'\n",
      "==================================================\n",
      "Found 3 results:\n",
      "\n",
      "1. Gran Turismo (PlayStation 1, 1997)\n",
      "   Genre: Racing\n",
      "   Similarity Score: 0.044\n",
      "   Description: A realistic racing simulator featuring a wide array of cars and tracks, setting a new standard for the genre.\n",
      "   Document: [PlayStation 1] Gran Turismo (1997) - A realistic racing simulator featuring a wide array of cars an...\n",
      "\n",
      "2. Gran Turismo 5 (PlayStation 3, 2010)\n",
      "   Genre: Racing\n",
      "   Similarity Score: 0.022\n",
      "   Description: A comprehensive racing simulator featuring a vast selection of vehicles and tracks, with realistic driving physics.\n",
      "   Document: [PlayStation 3] Gran Turismo 5 (2010) - A comprehensive racing simulator featuring a vast selection ...\n",
      "\n",
      "3. Pokémon Ruby and Sapphire (Game Boy Advance, 2002)\n",
      "   Genre: Role-playing\n",
      "   Similarity Score: -0.331\n",
      "   Description: Third-generation Pokémon games set in the Hoenn region, featuring new Pokémon and double battles.\n",
      "   Document: [Game Boy Advance] Pokémon Ruby and Sapphire (2002) - Third-generation Pokémon games set in the Hoen...\n"
     ]
    }
   ],
   "source": [
    "# Test 1: Search for racing games\n",
    "print(\"🏎️ Test 1: Searching for 'racing games'\")\n",
    "print(\"=\" * 50)\n",
    "\n",
    "results = collection.query(\n",
    "    query_texts=[\"racing games\"],\n",
    "    n_results=3\n",
    ")\n",
    "\n",
    "print(f\"Found {len(results['documents'][0])} results:\")\n",
    "for i, (doc, metadata, distance) in enumerate(zip(results['documents'][0], results['metadatas'][0], results['distances'][0])):\n",
    "    similarity_score = 1 - distance  # Convert distance to similarity\n",
    "    print(f\"\\n{i+1}. {metadata['Name']} ({metadata['Platform']}, {metadata['YearOfRelease']})\")\n",
    "    print(f\"   Genre: {metadata['Genre']}\")\n",
    "    print(f\"   Similarity Score: {similarity_score:.3f}\")\n",
    "    print(f\"   Description: {metadata['Description']}\")\n",
    "    print(f\"   Document: {doc[:100]}...\")\n"
   ]
  },
  {
   "cell_type": "code",
   "execution_count": 10,
   "id": "30bb6ea5",
   "metadata": {},
   "outputs": [
    {
     "name": "stdout",
     "output_type": "stream",
     "text": [
      "\n",
      "🎮 Test 2: Searching for 'Nintendo games'\n",
      "==================================================\n",
      "Found 3 results:\n",
      "\n",
      "1. Super Smash Bros. Melee (GameCube, 2001)\n",
      "   Publisher: Nintendo\n",
      "   Similarity Score: -0.152\n",
      "   Description: A crossover fighting game featuring characters from various Nintendo franchises battling it out in dynamic arenas.\n",
      "   Document: [GameCube] Super Smash Bros. Melee (2001) - A crossover fighting game featuring characters from vari...\n",
      "\n",
      "2. Super Mario World (Super Nintendo Entertainment System (SNES), 1990)\n",
      "   Publisher: Nintendo\n",
      "   Similarity Score: -0.158\n",
      "   Description: A classic platformer where Mario embarks on a quest to save Princess Toadstool and Dinosaur Land from Bowser.\n",
      "   Document: [Super Nintendo Entertainment System (SNES)] Super Mario World (1990) - A classic platformer where M...\n",
      "\n",
      "3. Pokémon Gold and Silver (Game Boy Color, 1999)\n",
      "   Publisher: Nintendo\n",
      "   Similarity Score: -0.163\n",
      "   Description: Second-generation Pokémon games introducing new regions, Pokémon, and gameplay mechanics.\n",
      "   Document: [Game Boy Color] Pokémon Gold and Silver (1999) - Second-generation Pokémon games introducing new re...\n"
     ]
    }
   ],
   "source": [
    "# Test 2: Search for Nintendo games\n",
    "print(\"\\n🎮 Test 2: Searching for 'Nintendo games'\")\n",
    "print(\"=\" * 50)\n",
    "\n",
    "results = collection.query(\n",
    "    query_texts=[\"Nintendo games\"],\n",
    "    n_results=3\n",
    ")\n",
    "\n",
    "print(f\"Found {len(results['documents'][0])} results:\")\n",
    "for i, (doc, metadata, distance) in enumerate(zip(results['documents'][0], results['metadatas'][0], results['distances'][0])):\n",
    "    similarity_score = 1 - distance\n",
    "    print(f\"\\n{i+1}. {metadata['Name']} ({metadata['Platform']}, {metadata['YearOfRelease']})\")\n",
    "    print(f\"   Publisher: {metadata['Publisher']}\")\n",
    "    print(f\"   Similarity Score: {similarity_score:.3f}\")\n",
    "    print(f\"   Description: {metadata['Description']}\")\n",
    "    print(f\"   Document: {doc[:100]}...\")\n"
   ]
  },
  {
   "cell_type": "code",
   "execution_count": 11,
   "id": "17d97b91",
   "metadata": {},
   "outputs": [
    {
     "name": "stdout",
     "output_type": "stream",
     "text": [
      "\n",
      "🦘 Test 3: Searching for 'platform jumping games'\n",
      "==================================================\n",
      "Found 3 results:\n",
      "\n",
      "1. Kinect Adventures! (Xbox 360, 2010)\n",
      "   Genre: Party\n",
      "   Similarity Score: -0.289\n",
      "   Description: A collection of mini-games designed to showcase the capabilities of the Kinect motion sensor.\n",
      "   Document: [Xbox 360] Kinect Adventures! (2010) - A collection of mini-games designed to showcase the capabilit...\n",
      "\n",
      "2. Super Mario 64 (Nintendo 64, 1996)\n",
      "   Genre: Platformer\n",
      "   Similarity Score: -0.312\n",
      "   Description: A groundbreaking 3D platformer that set new standards for the genre, featuring Mario's quest to rescue Princess Peach.\n",
      "   Document: [Nintendo 64] Super Mario 64 (1996) - A groundbreaking 3D platformer that set new standards for the ...\n",
      "\n",
      "3. Super Mario World (Super Nintendo Entertainment System (SNES), 1990)\n",
      "   Genre: Platformer\n",
      "   Similarity Score: -0.371\n",
      "   Description: A classic platformer where Mario embarks on a quest to save Princess Toadstool and Dinosaur Land from Bowser.\n",
      "   Document: [Super Nintendo Entertainment System (SNES)] Super Mario World (1990) - A classic platformer where M...\n"
     ]
    }
   ],
   "source": [
    "# Test 3: Search for platform games\n",
    "print(\"\\n🦘 Test 3: Searching for 'platform jumping games'\")\n",
    "print(\"=\" * 50)\n",
    "\n",
    "results = collection.query(\n",
    "    query_texts=[\"platform jumping games\"],\n",
    "    n_results=3\n",
    ")\n",
    "\n",
    "print(f\"Found {len(results['documents'][0])} results:\")\n",
    "for i, (doc, metadata, distance) in enumerate(zip(results['documents'][0], results['metadatas'][0], results['distances'][0])):\n",
    "    similarity_score = 1 - distance\n",
    "    print(f\"\\n{i+1}. {metadata['Name']} ({metadata['Platform']}, {metadata['YearOfRelease']})\")\n",
    "    print(f\"   Genre: {metadata['Genre']}\")\n",
    "    print(f\"   Similarity Score: {similarity_score:.3f}\")\n",
    "    print(f\"   Description: {metadata['Description']}\")\n",
    "    print(f\"   Document: {doc[:100]}...\")\n"
   ]
  },
  {
   "cell_type": "code",
   "execution_count": null,
   "id": "49b54f82",
   "metadata": {},
   "outputs": [],
   "source": [
    "\n"
   ]
  },
  {
   "cell_type": "code",
   "execution_count": null,
   "id": "cac004de",
   "metadata": {},
   "outputs": [],
   "source": [
    "\n"
   ]
  },
  {
   "cell_type": "code",
   "execution_count": null,
   "id": "25e1872e",
   "metadata": {},
   "outputs": [],
   "source": [
    "\n"
   ]
  },
  {
   "cell_type": "code",
   "execution_count": null,
   "id": "0a2a1e06",
   "metadata": {},
   "outputs": [],
   "source": [
    "\n"
   ]
  },
  {
   "cell_type": "code",
   "execution_count": null,
   "id": "fc9383b2",
   "metadata": {},
   "outputs": [],
   "source": [
    "\n"
   ]
  },
  {
   "cell_type": "code",
   "execution_count": null,
   "id": "9f8fae0f",
   "metadata": {},
   "outputs": [],
   "source": [
    "\n"
   ]
  },
  {
   "cell_type": "code",
   "execution_count": null,
   "id": "07b81ea8",
   "metadata": {},
   "outputs": [],
   "source": [
    "\n"
   ]
  },
  {
   "cell_type": "code",
   "execution_count": null,
   "id": "57bca021",
   "metadata": {},
   "outputs": [],
   "source": [
    "\n"
   ]
  },
  {
   "cell_type": "code",
   "execution_count": null,
   "id": "2e39f16b",
   "metadata": {},
   "outputs": [],
   "source": [
    "\n"
   ]
  }
 ],
 "metadata": {
  "kernelspec": {
   "display_name": "venv",
   "language": "python",
   "name": "python3"
  },
  "language_info": {
   "codemirror_mode": {
    "name": "ipython",
    "version": 3
   },
   "file_extension": ".py",
   "mimetype": "text/x-python",
   "name": "python",
   "nbconvert_exporter": "python",
   "pygments_lexer": "ipython3",
   "version": "3.12.2"
  }
 },
 "nbformat": 4,
 "nbformat_minor": 5
}
